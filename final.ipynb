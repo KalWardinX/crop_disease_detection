{
  "cells": [
    {
      "cell_type": "markdown",
      "metadata": {
        "id": "khFaF94mYST7"
      },
      "source": [
        "# Data Download"
      ]
    },
    {
      "cell_type": "code",
      "execution_count": null,
      "metadata": {
        "id": "Mj_aRa4iYYP5"
      },
      "outputs": [],
      "source": [
        "!wget https://data.mendeley.com/public-files/datasets/fwcj7stb8r/files/fd8717c4-0d65-4c80-a76c-3b61cb68e80d/file_downloaded"
      ]
    },
    {
      "cell_type": "code",
      "execution_count": null,
      "metadata": {
        "id": "vwadbn5MYg8y"
      },
      "outputs": [],
      "source": [
        "!7za x file_downloaded"
      ]
    },
    {
      "cell_type": "code",
      "execution_count": null,
      "metadata": {
        "id": "idLq8w9GYt0_"
      },
      "outputs": [],
      "source": [
        "!rm -r sample_data\n",
        "!rm file_downloaded\n",
        "!mv 'Rice Leaf Disease Images' data\n",
        "!ls"
      ]
    },
    {
      "cell_type": "markdown",
      "metadata": {
        "id": "ZpIS8_L8YKKS"
      },
      "source": [
        "# Backend Part"
      ]
    },
    {
      "cell_type": "code",
      "execution_count": null,
      "metadata": {
        "id": "CoDBMLwTZn5H"
      },
      "outputs": [],
      "source": [
        "!pip install tensorflow"
      ]
    },
    {
      "cell_type": "markdown",
      "metadata": {
        "id": "hNGAfzrnZIEH"
      },
      "source": [
        "**Import Libraries**"
      ]
    },
    {
      "cell_type": "code",
      "execution_count": 5,
      "metadata": {
        "id": "CJmq145sZGNj"
      },
      "outputs": [],
      "source": [
        "import tensorflow as tf\n",
        "import os\n",
        "from tensorflow.keras import layers, datasets, models\n",
        "import numpy as np\n",
        "import os\n",
        "import cv2\n",
        "from sklearn.model_selection import train_test_split\n",
        "from sklearn import utils"
      ]
    },
    {
      "cell_type": "code",
      "execution_count": 6,
      "metadata": {
        "id": "_6rNxWxaZBsA"
      },
      "outputs": [],
      "source": [
        "CATEGORIES = [\"Bacterialblight\" , \"Blast\" , \"Brownspot\", \"Tungro\"]\n",
        "IMG_SIZE = 200"
      ]
    },
    {
      "cell_type": "code",
      "execution_count": 7,
      "metadata": {
        "id": "2ezkiPPjZ7zQ"
      },
      "outputs": [],
      "source": [
        "X = list()\n",
        "y = list()\n",
        "\n",
        "def createTrainingData():\n",
        "  for category in CATEGORIES:\n",
        "    path = os.path.join('/content/data',category)\n",
        "    category_index = CATEGORIES.index(category)\n",
        "    for img in os.listdir(path):\n",
        "      img_arr = cv2.imread(os.path.join(path, img))\n",
        "      new_arr = cv2.resize(img_arr , (IMG_SIZE, IMG_SIZE))\n",
        "      X.append(new_arr)\n",
        "      y.append(category_index)\n",
        "\n",
        "createTrainingData()\n",
        "X = np.array(X)\n",
        "y = np.array(y)   \n",
        "\n",
        "X, y = utils.shuffle(X, y)\n",
        "\n",
        "X_train, X_test, y_train, y_test = train_test_split(X, y, test_size=0.33, random_state=42)"
      ]
    },
    {
      "cell_type": "code",
      "execution_count": 8,
      "metadata": {
        "id": "-guzGYbgdWFh"
      },
      "outputs": [],
      "source": [
        "cnn = models.Sequential([\n",
        "  layers.Conv2D(32 ,(3,3), activation='relu' , input_shape=(IMG_SIZE,IMG_SIZE,3)),\n",
        "  layers.MaxPooling2D((2,2), strides = 2),\n",
        "  layers.Conv2D(32 , (3,3), activation='relu'),\n",
        "  layers.MaxPooling2D((2,2), strides = 2),\n",
        "  layers.Dropout(0.5),\n",
        "  layers.Flatten(),\n",
        "  layers.Dense(1000, activation='relu'),\n",
        "  layers.Dense(4 , activation='softmax')\n",
        "])\n",
        "cnn.compile(\n",
        "    optimizer='adam',\n",
        "    loss='sparse_categorical_crossentropy',\n",
        "    metrics=['accuracy']\n",
        ")"
      ]
    },
    {
      "cell_type": "code",
      "execution_count": null,
      "metadata": {
        "id": "leBTDztTemKo"
      },
      "outputs": [],
      "source": [
        "cnn.fit(X_train, y_train, epochs=20)\n",
        "cnn.evaluate(X_test, y_test)"
      ]
    },
    {
      "cell_type": "code",
      "execution_count": 10,
      "metadata": {
        "id": "V2iNd8u1ey26"
      },
      "outputs": [],
      "source": [
        "def predict(filename):\n",
        "  path = os.path.join('/content/static/upload', filename)\n",
        "  img = cv2.imread(path)\n",
        "  x = img.shape[1]\n",
        "  y = img.shape[0]\n",
        "  x1 = (x - IMG_SIZE)//2\n",
        "  y1 = (y - IMG_SIZE)//2\n",
        "  x2 = x - x1\n",
        "  y2 = y - y1\n",
        "  img = img[y1:y2, x1:x2]\n",
        "  img = cv2.resize(img, (IMG_SIZE,IMG_SIZE))\n",
        "  imgl = [img]\n",
        "  imgl = np.array(imgl)\n",
        "  \n",
        "  index = np.argmax(cnn.predict(imgl))\n",
        "  return CATEGORIES[index]"
      ]
    },
    {
      "cell_type": "markdown",
      "metadata": {
        "id": "BftT0iTuYzDJ"
      },
      "source": [
        "# File Setup for frontend"
      ]
    },
    {
      "cell_type": "code",
      "source": [
        "!rm -r static templates app.py\n",
        "!git clone https://github.com/KalWardinX/crop_disease_detection.git\n",
        "!mv crop_disease_detection/code/static ./static\n",
        "!mv crop_disease_detection/code/templates ./templates\n",
        "!mv crop_disease_detection/code/app.py ./app.py\n",
        "!rm -r crop_disease_detection"
      ],
      "metadata": {
        "id": "sdioUY3TddYa"
      },
      "execution_count": null,
      "outputs": []
    },
    {
      "cell_type": "code",
      "source": [
        "!wget https://bin.equinox.io/c/4VmDzA7iaHb/ngrok-stable-linux-amd64.tgz\n",
        "!tar -xf ngrok-stable-linux-amd64.tgz\n",
        "!./ngrok authtoken 26Xss91r59HCCYKbBsKJsbAhRK7_6QgLMnQQtK4kBhtp6NtMg"
      ],
      "metadata": {
        "id": "sWSw2Dpfd_J2"
      },
      "execution_count": null,
      "outputs": []
    },
    {
      "cell_type": "markdown",
      "metadata": {
        "id": "eTkR6LHwYOHf"
      },
      "source": [
        "# Frontend Part"
      ]
    },
    {
      "cell_type": "code",
      "execution_count": null,
      "metadata": {
        "id": "T6Sb7yGljGXB"
      },
      "outputs": [],
      "source": [
        "!pip install flask_ngrok"
      ]
    },
    {
      "cell_type": "markdown",
      "metadata": {
        "id": "TOONUObpjA_B"
      },
      "source": [
        "**main.py**"
      ]
    },
    {
      "cell_type": "code",
      "execution_count": 14,
      "metadata": {
        "id": "CS1sSz8oiUIc"
      },
      "outputs": [],
      "source": [
        "from flask_ngrok import run_with_ngrok\n",
        "from flask import Flask , render_template,request, flash, redirect, url_for\n",
        "import os\n",
        "from werkzeug.utils import secure_filename"
      ]
    },
    {
      "cell_type": "code",
      "execution_count": null,
      "metadata": {
        "id": "6OGnvWvLMcBD"
      },
      "outputs": [],
      "source": [
        "UPLOAD_FOLDER = 'static/upload'\n",
        "ALLOWED_EXTENSIONS = {'png', 'jpg' ,'jpeg'}\n",
        "\n",
        "app = Flask(__name__)\n",
        "app.config['UPLOAD_FOLDER'] = UPLOAD_FOLDER\n",
        "app.secret_key = 'secret key'\n",
        "app.config['SESSION_TYPE'] = 'filesystem'\n",
        "run_with_ngrok(app)\n",
        "\n",
        "def allowed_file(filename):\n",
        "    return '.' in filename and filename.rsplit('.',1)[1].lower() in ALLOWED_EXTENSIONS\n",
        "\n",
        "@app.route('/',methods=['GET'])\n",
        "def index():\n",
        "    for i in os.listdir(UPLOAD_FOLDER):\n",
        "        os.remove(UPLOAD_FOLDER+'/'+i)\n",
        "    return render_template('index.htm', title='crop leaf disease')\n",
        "\n",
        "@app.route('/',methods=['POST'])\n",
        "def upload_image():\n",
        "    if 'file' not in request.files:\n",
        "        flash(\"no file part\")\n",
        "        return redirect(request.url)\n",
        "    file = request.files['file']\n",
        "    if file.filename == '':\n",
        "        flash(\"no imiage selected for uploading\")\n",
        "        return redirect(request.url)\n",
        "    if file and allowed_file(file.filename):\n",
        "        filename = secure_filename(file.filename)\n",
        "        file.save(os.path.join(app.config['UPLOAD_FOLDER'], filename))\n",
        "        disease = predict(filename)\n",
        "        return render_template('index.htm', filename=filename, disease=disease)\n",
        "    else:\n",
        "        flash(\"not allowed file\")\n",
        "        return redirect(request.url)\n",
        "\n",
        "@app.route('/upload/<filename>')\n",
        "def display_image(filename):\n",
        "    return redirect(url_for('static', filename='upload/'+filename),code=301)\n",
        "\n",
        "if __name__ == \"__main__\":\n",
        "    app.run()\n"
      ]
    }
  ],
  "metadata": {
    "colab": {
      "name": "final.ipynb",
      "provenance": [],
      "collapsed_sections": []
    },
    "kernelspec": {
      "display_name": "Python 3",
      "name": "python3"
    },
    "language_info": {
      "name": "python"
    },
    "accelerator": "GPU"
  },
  "nbformat": 4,
  "nbformat_minor": 0
}